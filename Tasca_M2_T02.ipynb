{
 "cells": [
  {
   "cell_type": "code",
   "execution_count": 2,
   "id": "d4fa6242",
   "metadata": {},
   "outputs": [
    {
     "name": "stdout",
     "output_type": "stream",
     "text": [
      "indica una nota:\n",
      "8\n",
      "Notable\n"
     ]
    }
   ],
   "source": [
    "#Exercici1.L'exercici consisteix a crear un programa que et classifiqui una variable numèrica en funció de l’escala Suspès/Aprovat/Notable/Excel·lent.\n",
    "\n",
    "numero = int(input('indica una nota:\\n'))\n",
    "\n",
    "if numero <5:\n",
    " print('Suspès')\n",
    "elif numero <=6:\n",
    " print('Aprovat')\n",
    "elif numero <=8:\n",
    "    print('Notable')\n",
    "else:\n",
    " print(' Excel·lent')\n",
    "\n"
   ]
  },
  {
   "cell_type": "code",
   "execution_count": 8,
   "id": "7dea1b84",
   "metadata": {},
   "outputs": [
    {
     "name": "stdout",
     "output_type": "stream",
     "text": [
      "indica el primer número 30\n",
      "indica el segon número 65\n",
      "30 el primer número és més petit que el segon 65\n"
     ]
    }
   ],
   "source": [
    "#Exercici2. Utilitzant el següent tutorial crea un programa que et pregunti dos números. T’ha de mostrar un missatge dient si el primer és més gran, el segon és més gran o són iguals.\n",
    "\n",
    "num1= input('indica el primer número ')\n",
    "num2= input('indica el segon número ')\n",
    "\n",
    "if num1 <num2:\n",
    "    print(num1+' el primer número és més petit que el segon '+ num2)\n",
    "\n",
    "elif num1 > num2:\n",
    "    print(num1+' el primer número és més gran que el segon '+ num2)\n",
    "\n",
    "else:\n",
    "    print('són iguals')"
   ]
  },
  {
   "cell_type": "code",
   "execution_count": 15,
   "id": "ca9b3ed8",
   "metadata": {},
   "outputs": [
    {
     "name": "stdout",
     "output_type": "stream",
     "text": [
      "indica el teu nom:\n",
      "Diana\n",
      "indica una número:\n",
      "3\n",
      "DianaDianaDiana\n"
     ]
    }
   ],
   "source": [
    "#Exercici3. Crea un programa que et pregunti el teu nom, i et demani un número. Si el número és 0, hauria de mostrar un missatge d’error. En cas contrari, hauria de mostrar el nom repetit tants cops com indiqui el número. Per exemple, “Joan Joan Joan”.\n",
    "\n",
    "nom = input('indica el teu nom:\\n')\n",
    "numero = int(input('indica una número:\\n'))\n",
    "\n",
    "if numero == 0:\n",
    "    print('número no vàlid')\n",
    "\n",
    "else:\n",
    "    print (nom*numero)"
   ]
  },
  {
   "cell_type": "code",
   "execution_count": 12,
   "id": "5c20d565",
   "metadata": {},
   "outputs": [
    {
     "name": "stdout",
     "output_type": "stream",
     "text": [
      "La llista és simètrica\n",
      "La llista té 11 elements\n"
     ]
    }
   ],
   "source": [
    "#Exercici4. Crea un programa que donada una llista qualsevol, et digui si és simètrica o no. Si ho és, que et digui quants elements té.\n",
    "\n",
    "lista = [0, 1, 2, 3, 4, 5, 4, 3, 2, 1, 0]\n",
    "\n",
    "def esSimetrica(miLista):\n",
    "    for i in range(0, len(miLista)):\n",
    "        if miLista[i] == miLista[(len(miLista) - 1) - i]:\n",
    "            simetrica = True\n",
    "        else:\n",
    "            simetrica = False\n",
    "            break\n",
    "    if simetrica:\n",
    "        print(\"La llista és simètrica\")\n",
    "    else:\n",
    "        print(\"La llista no és simètrica\")\n",
    "\n",
    "    print('La llista té ' + str(len(miLista)) + ' elements')\n",
    "\n",
    "esSimetrica(lista)"
   ]
  },
  {
   "cell_type": "code",
   "execution_count": 13,
   "id": "03102bb7",
   "metadata": {},
   "outputs": [
    {
     "name": "stdout",
     "output_type": "stream",
     "text": [
      "El 4 coincideix\n",
      "El 7 coincideix\n",
      "Hi ha 2 números que coincideixen\n"
     ]
    }
   ],
   "source": [
    "#Exercici5.Crea un programa que donada una llista, et digui quants números coincideixen amb la seva posició. Per exemple [3,4,2,0,2,3,6] el 2 i el 6 coincideixen.\n",
    "\n",
    "lista= [8,9,6,5,4,3,1,7,0,2]\n",
    "\n",
    "total=0\n",
    "for i in range(0, len(lista)):\n",
    "   if lista[i]==i:\n",
    "      print('El '+str(i)+ ' coincideix')\n",
    "   if lista[i]==i:\n",
    "      total +=1\n",
    "\n",
    "print('Hi ha '+ str(total) + ' números que coincideixen')\n",
    "\n"
   ]
  },
  {
   "cell_type": "code",
   "execution_count": null,
   "id": "9313f562",
   "metadata": {},
   "outputs": [],
   "source": []
  }
 ],
 "metadata": {
  "kernelspec": {
   "display_name": "Python 3 (ipykernel)",
   "language": "python",
   "name": "python3"
  },
  "language_info": {
   "codemirror_mode": {
    "name": "ipython",
    "version": 3
   },
   "file_extension": ".py",
   "mimetype": "text/x-python",
   "name": "python",
   "nbconvert_exporter": "python",
   "pygments_lexer": "ipython3",
   "version": "3.9.13"
  }
 },
 "nbformat": 4,
 "nbformat_minor": 5
}
